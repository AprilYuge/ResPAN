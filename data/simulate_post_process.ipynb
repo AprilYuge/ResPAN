{
 "cells": [
  {
   "cell_type": "code",
   "execution_count": 1,
   "id": "255dd236",
   "metadata": {},
   "outputs": [],
   "source": [
    "import numpy as np\n",
    "import pandas as pd\n",
    "import scanpy as sc\n",
    "import os"
   ]
  },
  {
   "cell_type": "markdown",
   "id": "93c067af",
   "metadata": {},
   "source": [
    "# Generate loom files"
   ]
  },
  {
   "cell_type": "code",
   "execution_count": 2,
   "id": "406fd28d",
   "metadata": {},
   "outputs": [],
   "source": [
    "for seed in range(1, 11):\n",
    "    base_dir = './Sim/Sim%d' % seed\n",
    "    count = pd.read_table('%s/counts.txt' % base_dir)\n",
    "    cellinfo = pd.read_table('%s/cellinfo.txt' % base_dir)\n",
    "    geneinfo = pd.read_table('%s/geneinfo.txt' % base_dir)\n",
    "    adata = sc.AnnData(count.values)\n",
    "    adata.obs = cellinfo[['Batch', 'Group', 'ExpLibSize']].rename(columns={'Batch': 'batch', 'Group': 'celltype'})\n",
    "    adata.var = geneinfo\n",
    "    adata.var_names.name = 'Gene'\n",
    "    adata.obs_names.name = 'CellID'\n",
    "    sc.pp.filter_cells(adata, min_genes=200)\n",
    "    sc.pp.filter_genes(adata, min_cells=3)\n",
    "    adata.write_loom('%s/Sim%d_raw.loom' % (base_dir, seed))"
   ]
  },
  {
   "cell_type": "markdown",
   "id": "573f2e80",
   "metadata": {},
   "source": [
    "# Generate subsampled files for different scenarios"
   ]
  },
  {
   "cell_type": "code",
   "execution_count": 18,
   "id": "b31d2cb4",
   "metadata": {},
   "outputs": [],
   "source": [
    "batch1_prop_cells = [1/2, 1/4, 1/8]\n",
    "rare1_prop_cells = [1/2, 1/5, 1/10]\n",
    "common_cells = [5, 3, 1]"
   ]
  },
  {
   "cell_type": "code",
   "execution_count": 20,
   "id": "261db4f4",
   "metadata": {},
   "outputs": [
    {
     "name": "stdout",
     "output_type": "stream",
     "text": [
      "batch     Batch1  Batch2\n",
      "celltype                \n",
      "Group1       243     224\n",
      "Group2       239     230\n",
      "Group3       234     219\n",
      "Group4       218     220\n",
      "Group5       213     236\n",
      "Group6       205       0\n",
      "Group7         0     205\n",
      "batch     Batch1  Batch2\n",
      "celltype                \n",
      "Group1       243     224\n",
      "Group2       239     230\n",
      "Group3       234     219\n",
      "Group4       218       0\n",
      "Group5       213       0\n",
      "Group6         0     236\n",
      "Group7         0     205\n",
      "batch     Batch1  Batch2\n",
      "celltype                \n",
      "Group1       243     224\n",
      "Group2       239       0\n",
      "Group3       234       0\n",
      "Group4       218       0\n",
      "Group5         0     236\n",
      "Group6         0     236\n",
      "Group7         0     205\n"
     ]
    }
   ],
   "source": [
    "for seed in range(1, 11):\n",
    "    base_dir = './Sim/Sim%d' % seed\n",
    "    adata = sc.read_loom('%s/Sim%d_raw.loom' % (base_dir, seed))\n",
    "    for number in common_cells:\n",
    "        os.mkdir('%s/common_%d' % (base_dir, number))\n",
    "        common_ct = ['Group%d' % i for i in range(1, number+1)]\n",
    "        index0 = adata.obs_names[adata.obs.celltype.isin(common_ct)]\n",
    "        specific_number = 7 - number\n",
    "        # Get specific cell types for Batch1\n",
    "        specific_ct = ['Group%d' % i for i in range(number+1, int(number+1+specific_number/2))]\n",
    "        index1 = adata.obs_names[adata.obs.celltype.isin(specific_ct) & (adata.obs.batch=='Batch1')]\n",
    "        # Get specific cell types for Batch2\n",
    "        specific_ct = ['Group%d' % i for i in range(int(number+1+specific_number/2), 7+1)]\n",
    "        index2 = adata.obs_names[adata.obs.celltype.isin(specific_ct) & (adata.obs.batch=='Batch2')]\n",
    "        adata_sub = adata[index0.union(index1).union(index2)]\n",
    "        print(pd.crosstab(adata_sub.obs.celltype, adata_sub.obs.batch))\n",
    "        adata_sub.write_loom('%s/common_%d/Sim%d_raw.loom' % (base_dir, number, seed))"
   ]
  },
  {
   "cell_type": "code",
   "execution_count": 21,
   "id": "843689d9",
   "metadata": {},
   "outputs": [
    {
     "name": "stdout",
     "output_type": "stream",
     "text": [
      "Group2    469\n",
      "Group3    453\n",
      "Group5    449\n",
      "Group6    441\n",
      "Group4    438\n",
      "Group7    414\n",
      "Group1    234\n",
      "Name: celltype, dtype: int64\n",
      "Group2    469\n",
      "Group3    453\n",
      "Group5    449\n",
      "Group6    441\n",
      "Group4    438\n",
      "Group7    414\n",
      "Group1     94\n",
      "Name: celltype, dtype: int64\n",
      "Group2    469\n",
      "Group3    453\n",
      "Group5    449\n",
      "Group6    441\n",
      "Group4    438\n",
      "Group7    414\n",
      "Group1     47\n",
      "Name: celltype, dtype: int64\n"
     ]
    }
   ],
   "source": [
    "for seed in range(1,11):\n",
    "    base_dir = './Sim/Sim%d' % seed\n",
    "    adata = sc.read_loom('%s/Sim%d_raw.loom' % (base_dir, seed))\n",
    "    total = np.sum(adata.obs.celltype == 'Group1')\n",
    "    for number in rare1_prop_cells:\n",
    "        os.mkdir('%s/rare1_%.1f' % (base_dir, number))\n",
    "        obs_names = np.random.choice(adata.obs_names[adata.obs.celltype == 'Group1'], int(total*(1-number)), replace=False)\n",
    "        adata_sub = adata[~adata.obs_names.isin(obs_names)]\n",
    "        print(adata_sub.obs.celltype.value_counts())\n",
    "        adata_sub.write_loom('%s/rare1_%.1f/Sim%d_raw.loom' % (base_dir, number, seed))"
   ]
  },
  {
   "cell_type": "code",
   "execution_count": 22,
   "id": "114947ab",
   "metadata": {
    "scrolled": true
   },
   "outputs": [
    {
     "name": "stdout",
     "output_type": "stream",
     "text": [
      "Batch2    1570\n",
      "Batch1     781\n",
      "Name: batch, dtype: int64\n",
      "Batch2    1570\n",
      "Batch1     391\n",
      "Name: batch, dtype: int64\n",
      "Batch2    1570\n",
      "Batch1     196\n",
      "Name: batch, dtype: int64\n"
     ]
    }
   ],
   "source": [
    "for seed in range(1,11):\n",
    "    base_dir = './Sim/Sim%d' % seed\n",
    "    adata = sc.read_loom('%s/Sim%d_raw.loom' % (base_dir, seed))\n",
    "    batch1_n = np.sum(adata.obs.batch == 'Batch1')\n",
    "    for number in batch1_prop_cells:\n",
    "        os.mkdir('%s/batch1_%d' % (base_dir, number))\n",
    "        obs_names = np.random.choice(adata.obs_names[adata.obs.batch == 'Batch1'], \n",
    "                                     int((1-number)*batch1_n), replace=False)\n",
    "        adata_sub = adata[~adata.obs_names.isin(obs_names)]\n",
    "        print(adata_sub.obs.batch.value_counts())\n",
    "        adata_sub.write_loom('%s/batch1_%.3f/Sim%d_raw.loom' % (base_dir, number, seed))"
   ]
  },
  {
   "cell_type": "code",
   "execution_count": null,
   "id": "1c10d0ad",
   "metadata": {},
   "outputs": [],
   "source": []
  }
 ],
 "metadata": {
  "kernelspec": {
   "display_name": "Python 3 (ipykernel)",
   "language": "python",
   "name": "python3"
  },
  "language_info": {
   "codemirror_mode": {
    "name": "ipython",
    "version": 3
   },
   "file_extension": ".py",
   "mimetype": "text/x-python",
   "name": "python",
   "nbconvert_exporter": "python",
   "pygments_lexer": "ipython3",
   "version": "3.8.6"
  }
 },
 "nbformat": 4,
 "nbformat_minor": 5
}
